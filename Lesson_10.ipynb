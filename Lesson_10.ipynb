{
 "cells": [
  {
   "cell_type": "code",
   "execution_count": 1,
   "id": "e22c43ec",
   "metadata": {},
   "outputs": [],
   "source": [
    "from IPython.display import Image\n",
    "from IPython.core.display import HTML "
   ]
  },
  {
   "cell_type": "code",
   "execution_count": 6,
   "id": "1778a54a",
   "metadata": {},
   "outputs": [
    {
     "data": {
      "text/html": [
       "<img src=\"https://cdn.discordapp.com/attachments/940204402004877322/947501985320538152/unknown.png\"/>"
      ],
      "text/plain": [
       "<IPython.core.display.Image object>"
      ]
     },
     "execution_count": 6,
     "metadata": {},
     "output_type": "execute_result"
    }
   ],
   "source": [
    "Image(url=\"https://cdn.discordapp.com/attachments/940204402004877322/947501985320538152/unknown.png\")"
   ]
  },
  {
   "cell_type": "code",
   "execution_count": 2,
   "id": "1caa5ce0",
   "metadata": {},
   "outputs": [
    {
     "data": {
      "text/html": [
       "<img src=\"https://cdn.discordapp.com/attachments/940204402004877322/947500828229525554/unknown.png\"/>"
      ],
      "text/plain": [
       "<IPython.core.display.Image object>"
      ]
     },
     "execution_count": 2,
     "metadata": {},
     "output_type": "execute_result"
    }
   ],
   "source": [
    "Image(url= \"https://cdn.discordapp.com/attachments/940204402004877322/947500828229525554/unknown.png\")"
   ]
  },
  {
   "cell_type": "markdown",
   "id": "2b636c68",
   "metadata": {},
   "source": [
    "линейно раскладываю интеграл<br>\n",
    "2|(x^2)dx - 2|xdx - |1dx + |sin(x)dx - |cosxdx + |lnxdx + |(e^x)dx<br>\n",
    "((2x^3)/3) + (2x^2/2) - x -cosx -sinx + xlnx+x + e^x"
   ]
  },
  {
   "cell_type": "code",
   "execution_count": 3,
   "id": "4ae66f66",
   "metadata": {},
   "outputs": [
    {
     "data": {
      "text/html": [
       "<img src=\"https://cdn.discordapp.com/attachments/940204402004877322/947500878775083029/unknown.png\"/>"
      ],
      "text/plain": [
       "<IPython.core.display.Image object>"
      ]
     },
     "execution_count": 3,
     "metadata": {},
     "output_type": "execute_result"
    }
   ],
   "source": [
    "Image(url= \"https://cdn.discordapp.com/attachments/940204402004877322/947500878775083029/unknown.png\")"
   ]
  },
  {
   "cell_type": "markdown",
   "id": "2c6190b3",
   "metadata": {},
   "source": [
    "вычисляется относительно х, значит y и z это константы<br>\n",
    "-5y|(x^2)dx + (6z^2 + 2)|xdx - 3ln(z)|1dx<br>\n",
    "-5y * (x^3)/3 + (6z^2+2) * (x^2)/2 - 3lnz * x <br>"
   ]
  },
  {
   "cell_type": "code",
   "execution_count": 4,
   "id": "9f695bb0",
   "metadata": {},
   "outputs": [
    {
     "data": {
      "text/html": [
       "<img src=\"https://cdn.discordapp.com/attachments/940204402004877322/947500913206132777/unknown.png\"/>"
      ],
      "text/plain": [
       "<IPython.core.display.Image object>"
      ]
     },
     "execution_count": 4,
     "metadata": {},
     "output_type": "execute_result"
    }
   ],
   "source": [
    "Image(url= \"https://cdn.discordapp.com/attachments/940204402004877322/947500913206132777/unknown.png\")"
   ]
  },
  {
   "cell_type": "markdown",
   "id": "0b14a104",
   "metadata": {},
   "source": []
  },
  {
   "cell_type": "code",
   "execution_count": 5,
   "id": "05f6a22d",
   "metadata": {},
   "outputs": [
    {
     "data": {
      "text/html": [
       "<img src=\"https://cdn.discordapp.com/attachments/940204402004877322/947500941735764018/unknown.png\"/>"
      ],
      "text/plain": [
       "<IPython.core.display.Image object>"
      ]
     },
     "execution_count": 5,
     "metadata": {},
     "output_type": "execute_result"
    }
   ],
   "source": [
    "Image(url= \"https://cdn.discordapp.com/attachments/940204402004877322/947500941735764018/unknown.png\")"
   ]
  },
  {
   "cell_type": "markdown",
   "id": "192b88b4",
   "metadata": {},
   "source": [
    "u = x+1 = > du/dx = 1 => dx = du <br>\n",
    "|1/u^(1/2) dx <br>\n",
    "применяю интеграл от степенной функции <br>\n",
    "2(u^1/2) <br>\n",
    "2(x+1)^(1/2) + C"
   ]
  },
  {
   "cell_type": "code",
   "execution_count": null,
   "id": "a906de7c",
   "metadata": {},
   "outputs": [],
   "source": []
  }
 ],
 "metadata": {
  "kernelspec": {
   "display_name": "Python 3",
   "language": "python",
   "name": "python3"
  },
  "language_info": {
   "codemirror_mode": {
    "name": "ipython",
    "version": 3
   },
   "file_extension": ".py",
   "mimetype": "text/x-python",
   "name": "python",
   "nbconvert_exporter": "python",
   "pygments_lexer": "ipython3",
   "version": "3.8.8"
  }
 },
 "nbformat": 4,
 "nbformat_minor": 5
}
