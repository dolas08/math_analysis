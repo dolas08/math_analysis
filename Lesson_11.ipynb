{
 "cells": [
  {
   "cell_type": "code",
   "execution_count": 1,
   "id": "406d1dbe",
   "metadata": {},
   "outputs": [],
   "source": [
    "from IPython.display import Image\n",
    "from IPython.core.display import HTML "
   ]
  },
  {
   "cell_type": "markdown",
   "id": "06e4b48a",
   "metadata": {},
   "source": [
    "## Тема 7 “Ряды”"
   ]
  },
  {
   "cell_type": "code",
   "execution_count": 2,
   "id": "8970f7a1",
   "metadata": {},
   "outputs": [
    {
     "data": {
      "text/html": [
       "<img src=\"https://cdn.discordapp.com/attachments/940204402004877322/940204433466351686/unknown.png\"/>"
      ],
      "text/plain": [
       "<IPython.core.display.Image object>"
      ]
     },
     "execution_count": 2,
     "metadata": {},
     "output_type": "execute_result"
    }
   ],
   "source": [
    "Image(url= \"https://cdn.discordapp.com/attachments/940204402004877322/940204433466351686/unknown.png\")"
   ]
  },
  {
   "cell_type": "markdown",
   "id": "15ba9fda",
   "metadata": {},
   "source": [
    "нужно посчитать предел, в котором следующий член нужно поделить на предыдущий <br>\n",
    "получается, я возьму n=3 и n=2<br>\n",
    "3<sup>3</sup> * (2!)<sup>2</sup><br>------------- = <br> (3!)<sup>2</sup> * 2<sup>2</sup><br>\n",
    "\n",
    "=108/144 = 54/72 = 27/36 = 9/12 = 3/4 < 1 => ряд сходится по признаку д'Аламбера (а если взять n = 1 и n = 2, то предел равен 1?)"
   ]
  },
  {
   "cell_type": "code",
   "execution_count": 3,
   "id": "fcbf4987",
   "metadata": {},
   "outputs": [
    {
     "data": {
      "text/html": [
       "<img src=\"https://cdn.discordapp.com/attachments/940204402004877322/940204466450362388/unknown.png\"/>"
      ],
      "text/plain": [
       "<IPython.core.display.Image object>"
      ]
     },
     "execution_count": 3,
     "metadata": {},
     "output_type": "execute_result"
    }
   ],
   "source": [
    "Image(url= \"https://cdn.discordapp.com/attachments/940204402004877322/940204466450362388/unknown.png\")"
   ]
  },
  {
   "cell_type": "markdown",
   "id": "83ecc704",
   "metadata": {},
   "source": [
    "нужно посчитать предел при n->+oo от (a<sub>n</sub>)<sup>1/n</sup><br>\n",
    "на опыте с первого примера возьму n=2 <br>\n",
    "((2/2<sup>2</sup>)<sup>2</sup>)<sup>1/2</sup><br>\n",
    "корень со степенью сократятся, получится 1/2 <1 => ряд сходится по признаку Коши"
   ]
  },
  {
   "cell_type": "code",
   "execution_count": 4,
   "id": "81469409",
   "metadata": {},
   "outputs": [
    {
     "data": {
      "text/html": [
       "<img src=\"https://cdn.discordapp.com/attachments/940204402004877322/940204498457079918/unknown.png\"/>"
      ],
      "text/plain": [
       "<IPython.core.display.Image object>"
      ]
     },
     "execution_count": 4,
     "metadata": {},
     "output_type": "execute_result"
    }
   ],
   "source": [
    "Image(url= \"https://cdn.discordapp.com/attachments/940204402004877322/940204498457079918/unknown.png\")"
   ]
  },
  {
   "cell_type": "markdown",
   "id": "afffbe36",
   "metadata": {},
   "source": [
    "Это знакочередующисйя ряд из-за чередования знака в числителе<br>\n",
    "-1, +1/(2+ln2), -1/(3+ln3) ... <br>\n",
    "ряд уменьшается с каждым шагом, значит он сходится <br>\n",
    "тк ряд в модуле будет расходится, значит ряд сходится условно по признаку Лейбница<br>"
   ]
  },
  {
   "cell_type": "code",
   "execution_count": 5,
   "id": "d47db679",
   "metadata": {},
   "outputs": [
    {
     "data": {
      "text/html": [
       "<img src=\"https://cdn.discordapp.com/attachments/940204402004877322/940204531625648169/unknown.png\"/>"
      ],
      "text/plain": [
       "<IPython.core.display.Image object>"
      ]
     },
     "execution_count": 5,
     "metadata": {},
     "output_type": "execute_result"
    }
   ],
   "source": [
    "Image(url= \"https://cdn.discordapp.com/attachments/940204402004877322/940204531625648169/unknown.png\")"
   ]
  },
  {
   "cell_type": "markdown",
   "id": "9a1885bd",
   "metadata": {},
   "source": [
    "по признаку Раабе предел (х->oo) (n((a<sub>n</sub>/a<sub>n+1</sub>)-1)<br>\n",
    "при n = 1  <br>\n",
    "((3/2) : (9/4))-1 = D <br>\n",
    "(3 * 4 / 2 * 9)-1 = D <br>\n",
    "(1 * 2 / 1 * 3)-1 = -1/3 < 1 => ряд расходится по признаку Раабе<br>\n"
   ]
  },
  {
   "cell_type": "code",
   "execution_count": 6,
   "id": "dd3158a6",
   "metadata": {},
   "outputs": [
    {
     "data": {
      "text/html": [
       "<img src=\"https://cdn.discordapp.com/attachments/940204402004877322/940204560557944892/unknown.png\"/>"
      ],
      "text/plain": [
       "<IPython.core.display.Image object>"
      ]
     },
     "execution_count": 6,
     "metadata": {},
     "output_type": "execute_result"
    }
   ],
   "source": [
    "Image(url= \"https://cdn.discordapp.com/attachments/940204402004877322/940204560557944892/unknown.png\")"
   ]
  },
  {
   "cell_type": "code",
   "execution_count": 7,
   "id": "c250d5b8",
   "metadata": {},
   "outputs": [
    {
     "data": {
      "text/html": [
       "<img src=\"https://cdn.discordapp.com/attachments/940204402004877322/940223125289836574/unknown.png\"/>"
      ],
      "text/plain": [
       "<IPython.core.display.Image object>"
      ]
     },
     "execution_count": 7,
     "metadata": {},
     "output_type": "execute_result"
    }
   ],
   "source": [
    "Image(url= \"https://cdn.discordapp.com/attachments/940204402004877322/940223125289836574/unknown.png\")"
   ]
  },
  {
   "cell_type": "markdown",
   "id": "311718c6",
   "metadata": {},
   "source": [
    "f(a) = ln(16x^2)<br>\n",
    "ln(16x^2) + (x-1)/32x + ((1/(16x^2))'/2!)((x-1)^2)+ <br> \n",
    "получается какая-то дичь в числителе уже во второй производной <br> \n",
    "f'(a) = 1/(16x^2)<br> \n",
    "f''(a) = - 2/(16x^3) = -1/(8x^3)<br>\n",
    "f'''(a) = 3/(8x^4)<br> \n",
    "f''''(a) = (3 * 4)/(8x^5) =- 3/2x^5<br>\n",
    "f'''''(a) = (3 * 5)/(2x^6)<br> \n",
    "f''''''(a) = (3 * 5 * 6) / (2x^7)=- 45/x^7<br> \n",
    "я так понимаю что в какой-то момент слагаемое должно превратиться в ноль? после чего считать не надо будет? но по общему виду что-то не похоже <br>\n",
    "не понятно до какого момента нужно это всё считать, по вебинару сказано что в один прекрасный момент производная будет равна нулю, но тут такого не предвидится, что делать дальше я не понимаю"
   ]
  },
  {
   "cell_type": "code",
   "execution_count": null,
   "id": "c7b3db19",
   "metadata": {},
   "outputs": [],
   "source": []
  }
 ],
 "metadata": {
  "kernelspec": {
   "display_name": "Python 3",
   "language": "python",
   "name": "python3"
  },
  "language_info": {
   "codemirror_mode": {
    "name": "ipython",
    "version": 3
   },
   "file_extension": ".py",
   "mimetype": "text/x-python",
   "name": "python",
   "nbconvert_exporter": "python",
   "pygments_lexer": "ipython3",
   "version": "3.8.8"
  }
 },
 "nbformat": 4,
 "nbformat_minor": 5
}
