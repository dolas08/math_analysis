{
 "cells": [
  {
   "cell_type": "code",
   "execution_count": 1,
   "id": "dabef653",
   "metadata": {},
   "outputs": [],
   "source": [
    "from IPython.display import Image\n",
    "from IPython.core.display import HTML "
   ]
  },
  {
   "cell_type": "code",
   "execution_count": 2,
   "id": "1d7c07fc",
   "metadata": {},
   "outputs": [
    {
     "data": {
      "text/html": [
       "<img src=\"https://cdn.discordapp.com/attachments/849725770703437944/936204235429802004/LBlBrfojpEYAAAAASUVORK5CYII.png\"/>"
      ],
      "text/plain": [
       "<IPython.core.display.Image object>"
      ]
     },
     "execution_count": 2,
     "metadata": {},
     "output_type": "execute_result"
    }
   ],
   "source": [
    "Image(url= \"https://cdn.discordapp.com/attachments/849725770703437944/936204235429802004/LBlBrfojpEYAAAAASUVORK5CYII.png\")"
   ]
  },
  {
   "cell_type": "markdown",
   "id": "0c7cf617",
   "metadata": {},
   "source": [
    "a.)<br> z'= (u ⋅ v)′ = u′v + v′u<br>\n",
    "u = sinx<br>\n",
    "u' = cosx<br>\n",
    "v = cosx<br>\n",
    "v' = -sinx<br>\n",
    "z' = cosxcosx + -sinxsinx = cos(2x)<br>\n",
    "b.)<br>\n",
    "z=ln(2x+1)^3 <br>\n",
    "u = (2x+1)^3 <br>\n",
    "t = (2x+1)<br>\n",
    "t'=2<br>\n",
    "u = t^3<br>\n",
    "u' = t' * 3(t)^2<br>\n",
    "z'=(1/u)u'\n",
    "z'= (6(2x+1)^2)/(2x+1)^3\n",
    "z'=6/(2x+1)\n",
    "c.)<br>\n",
    "z=((sin^2)(ln(x^3)))^(1/2)<br>\n",
    "выглядит как то, что нужно упростить для начала<br>\n",
    "z = sin(ln(x^3))<br>\n",
    "u = ln(x^3)<br>\n",
    "t = x^3<br>\n",
    "t'= 3x^2<br>\n",
    "u'= t'/t = (3x^2)/(x^3) <br>\n",
    "z' = u' * cos(u)<br>\n",
    "z' = (3x^2)(cos(ln(x^3))/(x^3)<br>\n",
    "d.)<br> (u/v)' = (u'v-v'u)/v^2\n",
    "z = (x^4)/(ln(x)) <br>\n",
    "u = x^4<br>\n",
    "v = ln(x)<br>\n",
    "u' = 4x^3<br>\n",
    "v' = 1/x<br>\n",
    "z' = ((4x^3)ln(x))-(x^3))/(ln(x))^2 <br>"
   ]
  },
  {
   "cell_type": "code",
   "execution_count": 3,
   "id": "b0488c10",
   "metadata": {},
   "outputs": [
    {
     "data": {
      "text/html": [
       "<img src=\"https://cdn.discordapp.com/attachments/849725770703437944/936204235647893535/GsLhjcESqgA5YRCKkV4kWZkPwphAxtsjQeHeutFrr86SDRg6iFjfefFh5owb7F5P5TYzFLtKIzDMMwqh9btTQMwzCqGlN0hmEYRlVjis4wDMOoakzRGYZhGFWNKTrDMAyjqjFFZxiGYVQ1pugMwzCMqsYUnWEYhlHVmKIzDMMwqhpTdIZhGEZVY4rOMAzDqGKcz9ofXcAk9ECVgAAAABJRU5ErkJggg.png\"/>"
      ],
      "text/plain": [
       "<IPython.core.display.Image object>"
      ]
     },
     "execution_count": 3,
     "metadata": {},
     "output_type": "execute_result"
    }
   ],
   "source": [
    "Image(url= \"https://cdn.discordapp.com/attachments/849725770703437944/936204235647893535/GsLhjcESqgA5YRCKkV4kWZkPwphAxtsjQeHeutFrr86SDRg6iFjfefFh5owb7F5P5TYzFLtKIzDMMwqh9btTQMwzCqGlN0hmEYRlVjis4wDMOoakzRGYZhGFWNKTrDMAyjqjFFZxiGYVQ1pugMwzCMqsYUnWEYhlHVmKIzDMMwqhpTdIZhGEZVY4rOMAzDqGKcz9ofXcAk9ECVgAAAABJRU5ErkJggg.png\")"
   ]
  },
  {
   "cell_type": "markdown",
   "id": "34013c7f",
   "metadata": {},
   "source": [
    "z = cos((x^2)+3x) <br>\n",
    "u = (x^2)+3x <br>\n",
    "u' = 2x+3 <br>\n",
    "z' = u'(-sin(u)) = (2x+3)(-sin((x^2)+3x)) = <br>\n",
    "z' = -2x * sin((x^2)+3x)-3sin((x^2)+3x) <br>\n",
    "2(2pi^(1/2)) * sin(4pi)-3sin(4pi)<br>\n",
    "sin(4pi) = 0 => z'(x<sub>0</sub>) = 0<br> "
   ]
  },
  {
   "cell_type": "code",
   "execution_count": 4,
   "id": "161e4db6",
   "metadata": {},
   "outputs": [
    {
     "data": {
      "text/html": [
       "<img src=\"https://cdn.discordapp.com/attachments/849725770703437944/936204235895341066/skeMyucjPvgAAAABJRU5ErkJggg.png\"/>"
      ],
      "text/plain": [
       "<IPython.core.display.Image object>"
      ]
     },
     "execution_count": 4,
     "metadata": {},
     "output_type": "execute_result"
    }
   ],
   "source": [
    "Image(url= \"https://cdn.discordapp.com/attachments/849725770703437944/936204235895341066/skeMyucjPvgAAAABJRU5ErkJggg.png\")"
   ]
  },
  {
   "cell_type": "markdown",
   "id": "63871d80",
   "metadata": {},
   "source": [
    "(u/v)' = (u'v-v'u)/v^2 <br>\n",
    "u = (x^3)-(x^2)-x-1 <br>\n",
    "v = 1+2x+3(x^2)-4(x^3) <br>\n",
    "u' = 2x^3-2x-1 <br>\n",
    "v' = 2+6x-12(x^2) <br>\n",
    "z'= ((2x^3-2x-1)(1+2x+3(x^2)-4(x^3))-(2+6x-12(x^2)((x^3)-(x^2)-x-1))/(1+2x+3(x^2)-4(x^3))^2 <br>\n",
    "z'(x<sub>0</sub>) = ((0-0-1)(1+0+0)-0)-(2+0-0)(0-0-0-1)/(1+0+0-0) = 1-2 = -1"
   ]
  },
  {
   "cell_type": "code",
   "execution_count": 5,
   "id": "c52c63e1",
   "metadata": {},
   "outputs": [
    {
     "data": {
      "text/html": [
       "<img src=\"https://cdn.discordapp.com/attachments/849725770703437944/936204236138631238/VTIFG9FyRciGyxpIJtuRzOylPJJmf9RTIqH8mEupjRCD6TRs56IdTm8ub60YG0ZIRPSP31MIqiKErhSNQvOyuKoiiKj8YTFEVRlMSiSkxRFEVJLKrEFEVRlMSiSkxRFEVJLKrEFEVRlMSiSkxRFEVJLKrEFEVRlMSiSkxRFEVJLKrEFEVRlMSiSkxRFEVJLKrEFEVRlMSiSkxRFEVJLKrEFEVRlMSiSkxRFEVJLKrEFEVRlMSiSkxRFEVJLKrEFEVRlIRizP8DK7gMt3wfNSgAAAAASUVORK5CYII.png\"/>"
      ],
      "text/plain": [
       "<IPython.core.display.Image object>"
      ]
     },
     "execution_count": 5,
     "metadata": {},
     "output_type": "execute_result"
    }
   ],
   "source": [
    "Image(url= \"https://cdn.discordapp.com/attachments/849725770703437944/936204236138631238/VTIFG9FyRciGyxpIJtuRzOylPJJmf9RTIqH8mEupjRCD6TRs56IdTm8ub60YG0ZIRPSP31MIqiKErhSNQvOyuKoiiKj8YTFEVRlMSiSkxRFEVJLKrEFEVRlMSiSkxRFEVJLKrEFEVRlMSiSkxRFEVJLKrEFEVRlMSiSkxRFEVJLKrEFEVRlMSiSkxRFEVJLKrEFEVRlMSiSkxRFEVJLKrEFEVRlMSiSkxRFEVJLKrEFEVRlMSiSkxRFEVJLKrEFEVRlIRizP8DK7gMt3wfNSgAAAAASUVORK5CYII.png\")"
   ]
  },
  {
   "cell_type": "markdown",
   "id": "e915a36a",
   "metadata": {},
   "source": [
    "a = alpha <br>\n",
    "f'(x<sub>0</sub>) = tg(a) = k<br>\n",
    "y = kx+b<br>\n",
    "x<sub>0</sub> = 1 <br>\n",
    "z = (3x^(1/2))ln(x)<br>\n",
    "z'= (u ⋅ v)′ = u′v + v′u<br>\n",
    "u = (3x^(1/2))<br>\n",
    "u' = (1/2(3x)^(1/2))<br>\n",
    "v = (lnx) <br>\n",
    "v' = (1/x) <br>\n",
    "z'= (1/2(3x)^(1/2))(lnx) + (1/x)(3x^(1/2)) <br>\n",
    "z'(x<sub>0</sub>) = ln(1)/2(3^(1/2)) + 3^(1/2) = 3^(1/2) <br>\n",
    "tg(a) = 3^(1/2)<br>\n",
    "a = 60 градусов <br>"
   ]
  },
  {
   "cell_type": "code",
   "execution_count": null,
   "id": "a5815824",
   "metadata": {},
   "outputs": [],
   "source": []
  }
 ],
 "metadata": {
  "kernelspec": {
   "display_name": "Python 3",
   "language": "python",
   "name": "python3"
  },
  "language_info": {
   "codemirror_mode": {
    "name": "ipython",
    "version": 3
   },
   "file_extension": ".py",
   "mimetype": "text/x-python",
   "name": "python",
   "nbconvert_exporter": "python",
   "pygments_lexer": "ipython3",
   "version": "3.8.8"
  }
 },
 "nbformat": 4,
 "nbformat_minor": 5
}
