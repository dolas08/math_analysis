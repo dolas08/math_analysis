{
 "cells": [
  {
   "cell_type": "markdown",
   "id": "59789ad7",
   "metadata": {},
   "source": [
    "Домашнее задание<br>\n",
    "№1. Найти длину 𝑥 и ширину 𝑦<br>\n",
    "прямоугольника при заданном<br>\n",
    "периметре 𝑃=144 cм, при которых<br>\n",
    "данный прямоугольник имеет<br>\n",
    "наибольшую площадь 𝑆.<br>"
   ]
  },
  {
   "cell_type": "markdown",
   "id": "20446fc3",
   "metadata": {},
   "source": [
    "x*y = S<br>\n",
    "P = 144 см<br>\n",
    "P = 2(x+y)<br>\n",
    "x+y = 72, y = 72-x<br>\n",
    "S = x*(72-x) = x^2 - 72x<br>\n",
    "S' = 2x-72<br>\n",
    "2x-72 = 0<br>\n",
    "x = 72/2 = 36<br>\n",
    "y = 72-x, y = 36<br>"
   ]
  },
  {
   "cell_type": "markdown",
   "id": "36ad9d7d",
   "metadata": {},
   "source": [
    "№2. найти экстремумы функций<br>\n",
    "(если они есть)<br>\n",
    "<br>\n",
    "𝑦 = |2𝑥|<br>\n",
    "необходимое условие:<br>\n",
    "y'=|2| - не существует? <br>\n",
    "достаточное условие:<br>\n",
    "Нигде не меняет знак, нет минимума<br>\n",
    "<br>\n",
    "𝑦 = 𝑥^3<br>\n",
    "необходимое условие:<br>\n",
    "y'=3x^2, x = 0<br>\n",
    "достаточное условие:<br>\n",
    "Нигде не меняет знак, нет минимума<br>\n",
    "<br>\n",
    "𝑦 = 𝑒^3𝑥<br>\n",
    "необходимое условие:<br>\n",
    "y' = 3e^3x - <br>\n",
    "3e^3x =0 - нет такого x, при котором e станет нулём -> не существует?\n",
    "достаточное условие:<br>\n",
    "функция производной всегда больше нуля - нет минимума?\n",
    "<br>\n",
    "<br>\n",
    "𝑦 = 𝑥^3 − 5x<br>\n",
    "необходимое условие:<br>\n",
    "y' = 2x^2 - 5<br>\n",
    "2x^2 - 5 = 0<br>\n",
    "x^2 = 5/2<br>\n",
    "x = (5/2)^(1/2) = +-2,5^(1/2)<br>\n",
    "достаточное условие:<br>\n",
    "при х = -3, y' = 13 <br>\n",
    "при x = -1, y' = -3 <br>\n",
    "при x = 0, y' = -5<br>\n",
    "при x = 1, y' = -3<br>\n",
    "при x = 3, y' = 13<br>\n",
    "значит функция меняет знак между (-2,5^(1/2);+2,5^(1/2)) - положительная до левой границы и после левой границы\n",
    "<br>"
   ]
  },
  {
   "cell_type": "code",
   "execution_count": 7,
   "id": "9a5e8389",
   "metadata": {},
   "outputs": [],
   "source": [
    "import numpy as np\n",
    "import matplotlib.pyplot as plt\n",
    "\n",
    "%matplotlib inline"
   ]
  },
  {
   "cell_type": "code",
   "execution_count": 8,
   "id": "a113936b",
   "metadata": {},
   "outputs": [
    {
     "data": {
      "text/plain": [
       "[<matplotlib.lines.Line2D at 0x278a6ce0b20>]"
      ]
     },
     "execution_count": 8,
     "metadata": {},
     "output_type": "execute_result"
    },
    {
     "data": {
      "image/png": "[encoded data removed]",
      "text/plain": [
       "<Figure size 432x288 with 1 Axes>"
      ]
     },
     "metadata": {
      "needs_background": "light"
     },
     "output_type": "display_data"
    }
   ],
   "source": [
    "def f(x):\n",
    "    return 3*(np.e)**(3*x)\n",
    "    \n",
    "x = np.linspace(-5, 5, 200)\n",
    "y = np.array(list(map(f, x)))\n",
    "\n",
    "plt.plot(x, y)"
   ]
  },
  {
   "cell_type": "code",
   "execution_count": 9,
   "id": "bf1f5158",
   "metadata": {},
   "outputs": [
    {
     "data": {
      "text/plain": [
       "[<matplotlib.lines.Line2D at 0x278a6d35d00>]"
      ]
     },
     "execution_count": 9,
     "metadata": {},
     "output_type": "execute_result"
    },
    {
     "data": {
      "image/png": "[encoded data removed]",
      "text/plain": [
       "<Figure size 432x288 with 1 Axes>"
      ]
     },
     "metadata": {
      "needs_background": "light"
     },
     "output_type": "display_data"
    }
   ],
   "source": [
    "def f(x):\n",
    "    return -5 * x + x**3\n",
    "    \n",
    "x = np.linspace(-5, 5, 200)\n",
    "y = np.array(list(map(f, x)))\n",
    "\n",
    "plt.plot(x, y)"
   ]
  },
  {
   "cell_type": "code",
   "execution_count": null,
   "id": "e688040d",
   "metadata": {},
   "outputs": [],
   "source": []
  }
 ],
 "metadata": {
  "kernelspec": {
   "display_name": "Python 3",
   "language": "python",
   "name": "python3"
  },
  "language_info": {
   "codemirror_mode": {
    "name": "ipython",
    "version": 3
   },
   "file_extension": ".py",
   "mimetype": "text/x-python",
   "name": "python",
   "nbconvert_exporter": "python",
   "pygments_lexer": "ipython3",
   "version": "3.8.8"
  }
 },
 "nbformat": 4,
 "nbformat_minor": 5
}
