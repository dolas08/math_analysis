{
 "cells": [
  {
   "cell_type": "code",
   "execution_count": 2,
   "id": "bd9c98a9",
   "metadata": {},
   "outputs": [],
   "source": [
    "from IPython.display import Image\n",
    "from IPython.core.display import HTML "
   ]
  },
  {
   "cell_type": "code",
   "execution_count": 4,
   "id": "65262c6a",
   "metadata": {},
   "outputs": [
    {
     "data": {
      "text/html": [
       "<img src=\"https://cdn.discordapp.com/attachments/849725770703437944/936201904998985799/7itiDxb8Xz0Ac8ImRLnQRVBRjwEDIMY3ic5hrHxsaKbwxjHNLS0uDryzPe0g3wf0hVTQGH5waAAAAAElFTkSuQmCC.png\"/>"
      ],
      "text/plain": [
       "<IPython.core.display.Image object>"
      ]
     },
     "execution_count": 4,
     "metadata": {},
     "output_type": "execute_result"
    }
   ],
   "source": [
    "Image(url= \"https://cdn.discordapp.com/attachments/849725770703437944/936201904998985799/7itiDxb8Xz0Ac8ImRLnQRVBRjwEDIMY3ic5hrHxsaKbwxjHNLS0uDryzPe0g3wf0hVTQGH5waAAAAAElFTkSuQmCC.png\")"
   ]
  },
  {
   "cell_type": "markdown",
   "id": "a91bffcc",
   "metadata": {},
   "source": [
    "1-x^3 >= 0 <br>\n",
    "(y^2)-1 > 0 <br><br>\n",
    "x^3 <= 1 (меньше равен)<br> \n",
    "(y^2) > 1<br>"
   ]
  },
  {
   "cell_type": "code",
   "execution_count": 5,
   "id": "1eb9fd06",
   "metadata": {},
   "outputs": [
    {
     "data": {
      "text/html": [
       "<img src=\"https://cdn.discordapp.com/attachments/849725770703437944/936201905389051944/zxCRGQiHL4gIjIRhjIRkYkwlImITAP4fwxtCm3fx745AAAAAElFTkSuQmCC.png\"/>"
      ],
      "text/plain": [
       "<IPython.core.display.Image object>"
      ]
     },
     "execution_count": 5,
     "metadata": {},
     "output_type": "execute_result"
    }
   ],
   "source": [
    "Image(url= \"https://cdn.discordapp.com/attachments/849725770703437944/936201905389051944/zxCRGQiHL4gIjIRhjIRkYkwlImITAP4fwxtCm3fx745AAAAAElFTkSuQmCC.png\")"
   ]
  },
  {
   "cell_type": "markdown",
   "id": "1c9f1b35",
   "metadata": {},
   "source": [
    "z= 1^3 + 3(lnx/lny) + 3(lnx/lny)^2 + (lnx/lny)^3 <br>\n",
    "z'<sub>x</sub> =<br> 3*((1/x)/lny) + 6(lnx/lny)((1/x)/lny) + 2(lnx/lny)((1/x)/lny) <br>\n",
    "z'<sub>x</sub>=<br> 3/(x * lny) + 6(lnx/lny)(x * lny) + 2((lnx/lny)^2)(x * lny) <br>\n",
    "z'<sub>x</sub>=<br> 3/(x * lny) + 6x * lnx + 2(lnx/lny)^2)(x * lny)<br>\n",
    "z'<sub>y</sub>=<br> 3y * lnx + 6(lnx/lny)(ylnx) + 3((lnx/lny)^2)(ylnx)<br>\n",
    "z'<sub>y</sub>=<br> 3ylnx + (6y(lnx)^2)/lny + 3((lnx/lny)^2)(ylnx) <br>"
   ]
  },
  {
   "cell_type": "code",
   "execution_count": 6,
   "id": "ad02a76b",
   "metadata": {},
   "outputs": [
    {
     "data": {
      "text/html": [
       "<img src=\"https://cdn.discordapp.com/attachments/849725770703437944/936201905649123369/8qlSpVykoVEZGcoqAUIr6FN3v2bAUlEZFcoKCUBU2bNtUr4SIiuUAlq4iIuIaCkoiIuIaCkoiIuIaCkoiIuIaCkoiIuIaCkoiIuIaCkoiIuEaY4WEN54kDBw5YQyL5i7LVaNGDWtMRNwgz4OSiIiIP2qExERlwDHy55XGNi3OQgAAAAAElFTkSuQmCC.png\"/>"
      ],
      "text/plain": [
       "<IPython.core.display.Image object>"
      ]
     },
     "execution_count": 6,
     "metadata": {},
     "output_type": "execute_result"
    }
   ],
   "source": [
    "Image(url= \"https://cdn.discordapp.com/attachments/849725770703437944/936201905649123369/8qlSpVykoVEZGcoqAUIr6FN3v2bAUlEZFcoKCUBU2bNtUr4SIiuUAlq4iIuIaCkoiIuIaCkoiIuIaCkoiIuIaCkoiIuIaCkoiIuIaCkoiIuEaY4WEN54kDBw5YQyL5i7LVaNGDWtMRNwgz4OSiIiIP2qExERlwDHy55XGNi3OQgAAAAAElFTkSuQmCC.png\")"
   ]
  },
  {
   "cell_type": "markdown",
   "id": "dc17f7f9",
   "metadata": {},
   "source": [
    "u = 2xy + cos(x/y) <br>\n",
    "u'<sub>x</sub>= 2y - (sin(x/y)/y) <br>\n",
    "u'<sub>y</sub>= x(sin(x/y)/y^2<br>\n",
    "z'<sub>x</sub>= (1/2)u'<sub>x</sub><br>\n",
    "z'<sub>x</sub>= (2y-(sin(x/y)/y))/2 <br>\n",
    "z'<sub>y</sub>= (x(sin(x/y)/y^2)/2<br>\n",
    "dW(1;1) = z'<sub>x</sub>+z'<sub>y</sub><br>\n",
    "dW = ((2y-(sin(x/y)/y))/2)dx + ((x(sin(x/y)/y^2)/2)dy<br>\n",
    "dW = (2-sin(1))/2)dx + (sin(1)/2)dy<br>\n",
    "dW =(2dx-dxsin(1) + dysin(1))/2 //// (dx+dy)/2 ?<br>"
   ]
  },
  {
   "cell_type": "code",
   "execution_count": 7,
   "id": "0a807e27",
   "metadata": {},
   "outputs": [
    {
     "data": {
      "text/html": [
       "<img src=\"https://cdn.discordapp.com/attachments/849725770703437944/936201905833644062/k9ZRaAu9DP5hfqRKUG7q0m9ifR9qP9IJj3t5yFfKnP0mbh8MBAh6XXQtdOjcDH46WpBGZOdgJ07dsLa0xsLRvCtgTeVbufIjYhbAKBwCTEU1GBQCAoR4SwCQQCi0MIm0AgsDiKtcYWHR2tfBIIBJZORkYGPD09lb2KjXh4IBAILA4xFRUIBBaHEDaBQGBxCGETCAQWhxA2gUBgcQhhEwgEFocQNoFAYHEIYRMIBBYG8P9zAKp8YGPfngAAAABJRU5ErkJggg.png\"/>"
      ],
      "text/plain": [
       "<IPython.core.display.Image object>"
      ]
     },
     "execution_count": 7,
     "metadata": {},
     "output_type": "execute_result"
    }
   ],
   "source": [
    "Image(url= \"https://cdn.discordapp.com/attachments/849725770703437944/936201905833644062/k9ZRaAu9DP5hfqRKUG7q0m9ifR9qP9IJj3t5yFfKnP0mbh8MBAh6XXQtdOjcDH46WpBGZOdgJ07dsLa0xsLRvCtgTeVbufIjYhbAKBwCTEU1GBQCAoR4SwCQQCi0MIm0AgsDiKtcYWHR2tfBIIBJZORkYGPD09lb2KjXh4IBAILA4xFRUIBBaHEDaBQGBxCGETCAQWhxA2gUBgcQhhEwgEFocQNoFAYHEIYRMIBBYG8P9zAKp8YGPfngAAAABJRU5ErkJggg.png\")"
   ]
  },
  {
   "cell_type": "markdown",
   "id": "6922f441",
   "metadata": {},
   "source": [
    "z'<sub>x</sub>= 2x+y+y<sup>2</sup>-6-9y = (y^2)-8y+2x<br>\n",
    "z'<sub>y</sub>= x<sup>2</sup>+x+2y-6x-9 = (x^2)-5x+2y<br><br>\n",
    "| (y^2) - 8y = 2x => x=((y^2)-8y)/2 => x=(y^2)/2 - 4y<br>\n",
    "| (x^2) - 5x + 2y = 0<br>\n",
    "    (((y^2)/2 - 4y)^2) + 5(((y^2)/2 - 4y)) + 2y = 0<br>\n",
    "    ((y^4)-8y(y^2)+16y^2)+((5(y^2))/2) -20y + 2y = 0<br>\n",
    "    (y^4)-8(y^3)+16(y^2)+((5(y^2))/2) - 18y = 0<br>\n",
    "    y((y^3)-8(y^2)+16(y)+5y/2-18 =0, y<sub>1</sub> = 0<br>\n",
    "    y((y^2)-8y+16+(5/2) = 0,y<sub>1</sub> = 0, y<sub>2</sub> = 0\n",
    "    y(y-8)=0,y<sub>1</sub>=0,y<sub>2</sub>=0,y<sub>3</sub>=0,y<sub>4</sub>=8<br>\n",
    "    =><br> y<sub>1</sub>=0<br>\n",
    "       y<sub>2</sub>=8<br>\n",
    "x<sub>1</sub>=0<br>\n",
    "x<sub>2</sub>=32-32=0<br>\n",
    "<br>\n",
    "z''<sub>xx</sub>=2+(y^2)-8 = (y^2)-6<br>\n",
    "z''<sub>yy</sub>=(x^2)-5x+2<br>\n",
    "z''<sub>xy</sub>=2x-8+2y = 2x+2y-8<br>\n",
    "z''<sub>yx</sub>=2x+2y-5<br>"
   ]
  },
  {
   "cell_type": "markdown",
   "id": "00b44b5e",
   "metadata": {},
   "source": [
    "|(y^2)-6____ 2x+2y-8   |<br>\n",
    "|2x+2y-5__   (x^2)-5x+2|<br>\n",
    "при x1,y1<br>\n",
    "(-6 * 2)-((-8) * (-5)) = -12-40 = -52 < 0 => экстремума нет<br>\n",
    "при x2,y2<br>\n",
    "(64-6)(2)-(8 * 11) = 28 > 0 => точка минимума"
   ]
  },
  {
   "cell_type": "code",
   "execution_count": null,
   "id": "da4fa6f4",
   "metadata": {},
   "outputs": [],
   "source": []
  },
  {
   "cell_type": "code",
   "execution_count": null,
   "id": "1e621fb2",
   "metadata": {},
   "outputs": [],
   "source": []
  }
 ],
 "metadata": {
  "kernelspec": {
   "display_name": "Python 3",
   "language": "python",
   "name": "python3"
  },
  "language_info": {
   "codemirror_mode": {
    "name": "ipython",
    "version": 3
   },
   "file_extension": ".py",
   "mimetype": "text/x-python",
   "name": "python",
   "nbconvert_exporter": "python",
   "pygments_lexer": "ipython3",
   "version": "3.8.8"
  }
 },
 "nbformat": 4,
 "nbformat_minor": 5
}
