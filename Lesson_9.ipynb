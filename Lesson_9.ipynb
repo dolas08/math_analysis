{
 "cells": [
  {
   "cell_type": "markdown",
   "id": "2d09adc8",
   "metadata": {},
   "source": [
    "### исследовать функцию на условный экстремум\n",
    "\n",
    "1. U = 3-8x+6y, если x<sup>2</sup>+y<sup>2</sup>=36\n",
    "2. U = 2x<sup>2</sup>+12xy+32y<sup>2</sup>+15, если x<sup>2</sup>+16y<sup>2</sup> = 64\n"
   ]
  },
  {
   "cell_type": "markdown",
   "id": "48ecd4c8",
   "metadata": {},
   "source": [
    "1. U = 3-8x+6y, если x2+y2=36<br>\n",
    "l = лямбда<br>\n",
    "L = 3-8x+6y+l(x<sup>2</sup>+y<sup>2</sup>-36)<br>\n",
    "L'(x) = -8+l2x = 0 => l2x = 8 => x=4/l<br> \n",
    "L'(y) = 6+l2y = 0 => l2y= -6 => y=-3/l<br>\n",
    "L'(l) = x<sup>2</sup>+y<sup>2</sup>-25 = 0 =>  16/l<sup>2</sup> + 9/l<sup>2</sup> = > 25/l<sup>2</sup> = 25 = > l = 1 <br><br>\n",
    "ответ:= (4,-3,1)"
   ]
  },
  {
   "cell_type": "markdown",
   "id": "85edb3ec",
   "metadata": {},
   "source": [
    "2. U = 2x<sup>2</sup>+12xy+32y<sup>2</sup>+15, если x<sup>2</sup>+16y<sup>2</sup> = 64<br>\n",
    "l = лямбда <br> \n",
    "L = 2x<sup>2</sup>+12xy+32y<sup>2</sup>+15 + l(x<sup>2</sup>+16y<sup>2</sup>-64)<br>\n",
    "L'(x) = 4x + l2x = 0 => l2x = 4x = > x = lx/2 // l = 2?\n",
    "L'(y) = 64y+ l32y = 0 => l32y = 64y => y = ly/2\n",
    "L'(l) = x<sup>2</sup>+16y<sup>2</sup> - 64 => <br>\n",
    "скорее всего где-то что-то неправильно."
   ]
  },
  {
   "cell_type": "markdown",
   "id": "2f5088ba",
   "metadata": {},
   "source": [
    "Найти производную функции\n",
    "U = x<sup>2</sup> + y<sup>2</sup> + z<sup>2</sup> по направлению вектора с(-9,8,-12) в точку М(8,-12,9)"
   ]
  },
  {
   "cell_type": "markdown",
   "id": "7dfb0470",
   "metadata": {},
   "source": [
    "вектор c = (-9^2 + 8^2 -12^2)^(1/2) = (81 + 64 + 144)^(1/2) = 17<br>\n",
    "вектор |c| = (-9/17, 8/17, -12/17) <br>\n",
    "U'(x) = 2x + y^2 + z^2 = > 2 * 8 + 144 + 81 = 241<br>\n",
    "U'(y) = 2y + x^2 + z^2 = > 2 * 12 + 64 + 81 = 169<br>\n",
    "U'(z) = 2z + x^2 + y^2 = > 2 * 9 + 64 + 144 = 226<br>\n",
    "(-9 * 241) /17 + <br>\n",
    "(8 * 169) /17 + <br>\n",
    "(-12 * 226) / 17 + <br>\n",
    "(-2169 + 1352 - 2712 )/ 17 <br>\n",
    "ответ - 3529/17<br>"
   ]
  },
  {
   "cell_type": "markdown",
   "id": "24a80e42",
   "metadata": {},
   "source": [
    "Найти производную функции U = e<sup>x<sup>2</sup> + y<sup>2</sup> + z<sup>2</sup> </sup> по направлению вектора d = (4,-13,-16) в точку L (-16;4;-13)"
   ]
  },
  {
   "cell_type": "code",
   "execution_count": null,
   "id": "d596e4fb",
   "metadata": {},
   "outputs": [],
   "source": []
  }
 ],
 "metadata": {
  "kernelspec": {
   "display_name": "Python 3",
   "language": "python",
   "name": "python3"
  },
  "language_info": {
   "codemirror_mode": {
    "name": "ipython",
    "version": 3
   },
   "file_extension": ".py",
   "mimetype": "text/x-python",
   "name": "python",
   "nbconvert_exporter": "python",
   "pygments_lexer": "ipython3",
   "version": "3.8.8"
  }
 },
 "nbformat": 4,
 "nbformat_minor": 5
}
